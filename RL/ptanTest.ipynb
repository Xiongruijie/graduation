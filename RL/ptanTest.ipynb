{
 "cells": [
  {
   "cell_type": "code",
   "execution_count": 5,
   "outputs": [],
   "source": [
    "import parl\n",
    "import paddle\n",
    "import paddle.nn as nn\n",
    "import paddle.nn.functional as F\n",
    "import numpy as np"
   ],
   "metadata": {
    "collapsed": false,
    "pycharm": {
     "name": "#%%\n"
    }
   }
  },
  {
   "cell_type": "code",
   "execution_count": 6,
   "outputs": [],
   "source": [
    "class Actor(parl.Model):\n",
    "    def __init__(self, obs_dim, action_dim=3):\n",
    "        super(Actor, self).__init__()\n",
    "\n",
    "        self.l1 = nn.Linear(obs_dim, 400)\n",
    "        self.l2 = nn.Linear(400, 300)\n",
    "        self.l3 = nn.Linear(300, action_dim)\n",
    "\n",
    "    def forward(self, obs):\n",
    "        a = F.relu(self.l1(obs))\n",
    "        a = F.relu(self.l2(a))\n",
    "        return paddle.tanh(self.l3(a))\n",
    "\n",
    "class Critic(parl.Model):\n",
    "    def __init__(self, obs_dim, action_dim):\n",
    "        super(Critic, self).__init__()\n",
    "\n",
    "        self.l1 = nn.Linear(obs_dim, 400)\n",
    "        self.l2 = nn.Linear(400 + action_dim, 300)\n",
    "        self.l3 = nn.Linear(300, 1)\n",
    "\n",
    "    def forward(self, obs, action):\n",
    "        q = F.relu(self.l1(obs))\n",
    "        q = F.relu(self.l2(paddle.concat([q, action], 1)))\n",
    "        return self.l3(q)\n",
    "\n",
    "class MujocoModel(parl.Model):\n",
    "    def __init__(self, obs_dim, action_dim):\n",
    "        super(MujocoModel, self).__init__()\n",
    "        self.actor_model = Actor(obs_dim, action_dim)\n",
    "        self.critic_model = Critic(obs_dim, action_dim)\n",
    "\n",
    "    def policy(self, obs):\n",
    "        return self.actor_model(obs)\n",
    "\n",
    "    def value(self, obs, action):\n",
    "        return self.critic_model(obs, action)\n",
    "\n",
    "    def get_actor_params(self):\n",
    "        return self.actor_model.parameters()\n",
    "\n",
    "    def get_critic_params(self):\n",
    "        return self.critic_model.parameters()"
   ],
   "metadata": {
    "collapsed": false,
    "pycharm": {
     "name": "#%%\n"
    }
   }
  },
  {
   "cell_type": "code",
   "execution_count": 7,
   "outputs": [],
   "source": [
    "class MujocoAgent(parl.Agent):\n",
    "    def __init__(self, algorithm, act_dim, expl_noise=0.1):\n",
    "        assert isinstance(act_dim, int)\n",
    "        super(MujocoAgent, self).__init__(algorithm)\n",
    "\n",
    "        self.act_dim = act_dim\n",
    "        self.expl_noise = expl_noise\n",
    "\n",
    "        self.alg.sync_target(decay=0)\n",
    "\n",
    "    def sample(self, obs):\n",
    "        action_numpy = self.predict(obs)\n",
    "        action_noise = np.random.normal(0, self.expl_noise, size=self.act_dim)\n",
    "        action = (action_numpy + action_noise).clip(-1, 1)\n",
    "        return action\n",
    "\n",
    "    def predict(self, obs):\n",
    "        obs = paddle.to_tensor(obs.reshape(1, -1), dtype='float32')\n",
    "        action = self.alg.predict(obs)\n",
    "        action_numpy = action.cpu().numpy()[0]\n",
    "        return action_numpy\n",
    "\n",
    "    def learn(self, obs, action, reward, next_obs, terminal):\n",
    "        terminal = np.expand_dims(terminal, -1)\n",
    "        reward = np.expand_dims(reward, -1)\n",
    "\n",
    "        obs = paddle.to_tensor(obs, dtype='float32')\n",
    "        action = paddle.to_tensor(action, dtype='float32')\n",
    "        reward = paddle.to_tensor(reward, dtype='float32')\n",
    "        next_obs = paddle.to_tensor(next_obs, dtype='float32')\n",
    "        terminal = paddle.to_tensor(terminal, dtype='float32')\n",
    "        critic_loss, actor_loss = self.alg.learn(obs, action, reward, next_obs,\n",
    "                                                 terminal)\n",
    "        return critic_loss, actor_loss"
   ],
   "metadata": {
    "collapsed": false,
    "pycharm": {
     "name": "#%%\n"
    }
   }
  },
  {
   "cell_type": "code",
   "execution_count": 9,
   "outputs": [],
   "source": [
    "import argparse\n",
    "import numpy as np\n",
    "from parl.utils import logger, summary, ReplayMemory\n",
    "from parl.env.continuous_wrappers import ActionMappingWrapper\n",
    "from parl.algorithms import DDPG"
   ],
   "metadata": {
    "collapsed": false,
    "pycharm": {
     "name": "#%%\n"
    }
   }
  },
  {
   "cell_type": "code",
   "execution_count": 10,
   "outputs": [],
   "source": [
    "WARMUP_STEPS = 1e4\n",
    "EVAL_EPISODES = 5\n",
    "MEMORY_SIZE = int(1e6)\n",
    "BATCH_SIZE = 100\n",
    "GAMMA = 0.99\n",
    "TAU = 0.005\n",
    "ACTOR_LR = 1e-3\n",
    "CRITIC_LR = 1e-3\n",
    "EXPL_NOISE = 0.1  # Std of Gaussian exploration noise"
   ],
   "metadata": {
    "collapsed": false,
    "pycharm": {
     "name": "#%%\n"
    }
   }
  },
  {
   "cell_type": "code",
   "execution_count": null,
   "outputs": [],
   "source": [
    "import gym\n",
    "\n",
    "def CircuitEnv(gym.Env):\n"
   ],
   "metadata": {
    "collapsed": false,
    "pycharm": {
     "name": "#%%\n"
    }
   }
  }
 ],
 "metadata": {
  "kernelspec": {
   "display_name": "Python 3",
   "language": "python",
   "name": "python3"
  },
  "language_info": {
   "codemirror_mode": {
    "name": "ipython",
    "version": 2
   },
   "file_extension": ".py",
   "mimetype": "text/x-python",
   "name": "python",
   "nbconvert_exporter": "python",
   "pygments_lexer": "ipython2",
   "version": "2.7.6"
  }
 },
 "nbformat": 4,
 "nbformat_minor": 0
}